{
  "nbformat": 4,
  "nbformat_minor": 0,
  "metadata": {
    "colab": {
      "provenance": []
    },
    "kernelspec": {
      "name": "python3",
      "display_name": "Python 3"
    },
    "language_info": {
      "name": "python"
    }
  },
  "cells": [
    {
      "cell_type": "code",
      "execution_count": 7,
      "metadata": {
        "id": "qQsVKVG9S5S4"
      },
      "outputs": [],
      "source": [
        "import requests\n",
        "\n",
        "TAGS_URL = 'https://gist.githubusercontent.com/karpitony/bd3870f51597b9e047e9656e5acaff07/raw/6f0502db6e8e4d872474218b9a26b775f9060975/tags.txt'"
      ]
    },
    {
      "cell_type": "code",
      "source": [
        "def get_tags(url):\n",
        "  try:\n",
        "    response = requests.get(url)\n",
        "    response.raise_for_status()\n",
        "    return response.text\n",
        "\n",
        "  except requests.exceptions.RequestException as e:\n",
        "    return f\"Error occurred: {e}\""
      ],
      "metadata": {
        "id": "fmXkFu66TCv4"
      },
      "execution_count": 18,
      "outputs": []
    },
    {
      "cell_type": "code",
      "source": [
        "tags = list(get_tags(TAGS_URL).split('\\n'))"
      ],
      "metadata": {
        "id": "ituWkn4_TSXu"
      },
      "execution_count": 21,
      "outputs": []
    },
    {
      "cell_type": "code",
      "source": [
        "len(tags), tags[0]"
      ],
      "metadata": {
        "colab": {
          "base_uri": "https://localhost:8080/"
        },
        "id": "Yv_rfxLUTk5X",
        "outputId": "e40418a9-1caf-46e7-95c7-9684b905ee5b"
      },
      "execution_count": 23,
      "outputs": [
        {
          "output_type": "execute_result",
          "data": {
            "text/plain": [
              "(172, '수학')"
            ]
          },
          "metadata": {},
          "execution_count": 23
        }
      ]
    },
    {
      "cell_type": "code",
      "source": [
        "# 유니코드 상에서 한글 초성, 중성, 종성의 시작 위치\n",
        "CHOSUNG_START = 0x1100\n",
        "JUNGSUNG_START = 0x1161\n",
        "JONGSUNG_START = 0x11A7\n",
        "\n",
        "# 유니코드 한글 음절의 시작 위치와 음절 범위\n",
        "HANGUL_START = 0xAC00\n",
        "HANGUL_END = 0xD7A3\n",
        "\n",
        "# 초성, 중성, 종성 리스트\n",
        "CHOSUNG_LIST = ['ㄱ', 'ㄲ', 'ㄴ', 'ㄷ', 'ㄸ', 'ㄹ', 'ㅁ', 'ㅂ', 'ㅃ', 'ㅅ', 'ㅆ', 'ㅇ', 'ㅈ', 'ㅉ', 'ㅊ', 'ㅋ', 'ㅌ', 'ㅍ', 'ㅎ']\n",
        "JUNGSUNG_LIST = ['ㅏ', 'ㅐ', 'ㅑ', 'ㅒ', 'ㅓ', 'ㅔ', 'ㅕ', 'ㅖ', 'ㅗ', 'ㅘ', 'ㅙ', 'ㅚ', 'ㅛ', 'ㅜ', 'ㅝ', 'ㅞ', 'ㅟ', 'ㅠ', 'ㅡ', 'ㅢ', 'ㅣ']\n",
        "JONGSUNG_LIST = [' ', 'ㄱ', 'ㄲ', 'ㄳ', 'ㄴ', 'ㄵ', 'ㄶ', 'ㄷ', 'ㄹ', 'ㄺ', 'ㄻ', 'ㄼ', 'ㄽ', 'ㄾ', 'ㄿ', 'ㅀ', 'ㅁ', 'ㅂ', 'ㅄ', 'ㅅ', 'ㅆ', 'ㅇ', 'ㅈ', 'ㅊ', 'ㅋ', 'ㅌ', 'ㅍ', 'ㅎ']\n",
        "\n",
        "def decompose_hangul_to_string(text):\n",
        "  result = []\n",
        "\n",
        "  for char in text:\n",
        "    # 한글 음절 범위 내의 문자일 경우에만 분리 진행\n",
        "    if HANGUL_START <= ord(char) <= HANGUL_END:\n",
        "      # 유니코드 상에서 해당 문자의 음절 번호 계산\n",
        "      syllable_index = ord(char) - HANGUL_START\n",
        "\n",
        "      # 초성, 중성, 종성 분리\n",
        "      chosung_index = syllable_index // (21 * 28)\n",
        "      jungsung_index = (syllable_index % (21 * 28)) // 28\n",
        "      jongsung_index = syllable_index % 28\n",
        "\n",
        "      # 초성, 중성, 종성 결과에 추가\n",
        "      result.append(CHOSUNG_LIST[chosung_index])\n",
        "      result.append(JUNGSUNG_LIST[jungsung_index])\n",
        "      if jongsung_index != 0:  # 종성이 있을 경우에만 추가\n",
        "          result.append(JONGSUNG_LIST[jongsung_index])\n",
        "    else:\n",
        "      # 한글이 아니면 그대로 결과에 추가\n",
        "      result.append(char)\n",
        "\n",
        "  return ''.join(result)\n",
        "\n",
        "# 테스트 예시\n",
        "text = \"안녕하세요\"\n",
        "decomposed_text = decompose_hangul_to_string(text)\n",
        "print(decomposed_text)\n"
      ],
      "metadata": {
        "colab": {
          "base_uri": "https://localhost:8080/"
        },
        "id": "NqLX0Na2TpM0",
        "outputId": "1410d3dd-63a2-4a89-c9cf-190b1ae964fe"
      },
      "execution_count": 26,
      "outputs": [
        {
          "output_type": "stream",
          "name": "stdout",
          "text": [
            "ㅇㅏㄴㄴㅕㅇㅎㅏㅅㅔㅇㅛ\n"
          ]
        }
      ]
    },
    {
      "cell_type": "code",
      "source": [
        "def trim_tag(tag):\n",
        "  return tag.replace('-', '').replace(' ', '')"
      ],
      "metadata": {
        "id": "CkbMr24eZVx1"
      },
      "execution_count": 29,
      "outputs": []
    },
    {
      "cell_type": "code",
      "source": [
        "decom = list(map(decompose_hangul_to_string, map(trim_tag, tags)))"
      ],
      "metadata": {
        "id": "IGC-bZhXXpvK"
      },
      "execution_count": 30,
      "outputs": []
    },
    {
      "cell_type": "code",
      "source": [
        "decom[0], decom[100], decom[170]"
      ],
      "metadata": {
        "colab": {
          "base_uri": "https://localhost:8080/"
        },
        "id": "ugdpgIFLZgTn",
        "outputId": "85c0f1d3-e86a-4206-f151-6c9f8baead43"
      },
      "execution_count": 32,
      "outputs": [
        {
          "output_type": "execute_result",
          "data": {
            "text/plain": [
              "('ㅅㅜㅎㅏㄱ', 'ㅊㅚㅅㅗㄱㅗㅇㅌㅗㅇㅈㅗㅅㅏㅇ', 'ㅅㅏㅇㅅㅜㅊㅚㅈㅓㄱㅎㅘ')"
            ]
          },
          "metadata": {},
          "execution_count": 32
        }
      ]
    },
    {
      "cell_type": "code",
      "source": [
        "import numpy as np\n",
        "import matplotlib.pyplot as plt"
      ],
      "metadata": {
        "id": "GSnZ97SMZjQk"
      },
      "execution_count": 33,
      "outputs": []
    },
    {
      "cell_type": "code",
      "source": [
        "length = np.array([*map(len, decom)])"
      ],
      "metadata": {
        "id": "sFSboUnhZ5NU"
      },
      "execution_count": 37,
      "outputs": []
    },
    {
      "cell_type": "code",
      "source": [
        "length"
      ],
      "metadata": {
        "colab": {
          "base_uri": "https://localhost:8080/"
        },
        "id": "wXO7bykeZ-1-",
        "outputId": "e3beb3b3-a148-4c8c-a897-6a0e6a92a506"
      },
      "execution_count": 38,
      "outputs": [
        {
          "output_type": "execute_result",
          "data": {
            "text/plain": [
              "array([ 5, 11,  8, 16, 22, 10, 18, 23, 19, 22, 15, 14, 20,  9,  9,  9, 13,\n",
              "        8, 18,  9, 19, 13, 13, 11, 10, 33, 17, 18,  9,  8,  5, 12, 20, 30,\n",
              "       40, 30, 48, 34, 28, 13, 25, 11, 12, 15, 16, 11, 15, 14, 10, 11, 16,\n",
              "       20, 12,  9, 12, 11, 12, 15, 19,  9,  7,  8,  2, 12,  5, 12,  3, 13,\n",
              "       30, 24, 20, 12, 11, 26, 26,  9,  8,  5,  9, 13,  6,  4, 16, 20,  6,\n",
              "        7, 15, 12, 16, 15, 29, 11, 19, 28, 19, 12, 17, 19, 10,  4, 15,  6,\n",
              "       11, 11, 19, 13, 11, 17, 15,  9, 14, 10,  7, 14, 11, 17,  7,  8, 16,\n",
              "       11, 10, 12, 10,  7,  9,  9, 18, 21, 12, 10, 20, 13, 30,  4, 15, 10,\n",
              "       20, 10,  5, 16, 44,  9, 17, 30, 17, 17,  8, 18, 19, 10, 12,  9, 15,\n",
              "       14, 15, 16, 11, 10, 14, 10, 17,  8,  8, 14, 17, 11, 10, 11, 13, 21,\n",
              "       12, 11])"
            ]
          },
          "metadata": {},
          "execution_count": 38
        }
      ]
    },
    {
      "cell_type": "code",
      "source": [
        "plt.hist(length)\n",
        "plt.xlabel('Length')\n",
        "plt.ylabel('Count')\n",
        "plt.title('BOJ Tag Length Histogram')\n",
        "plt.grid(True)"
      ],
      "metadata": {
        "colab": {
          "base_uri": "https://localhost:8080/",
          "height": 472
        },
        "id": "jbbtnPNXaAcD",
        "outputId": "aac6c09d-f75b-4810-cb45-94f2ace8f520"
      },
      "execution_count": 40,
      "outputs": [
        {
          "output_type": "display_data",
          "data": {
            "text/plain": [
              "<Figure size 640x480 with 1 Axes>"
            ],
            "image/png": "[encoded data removed]"
          },
          "metadata": {}
        }
      ]
    },
    {
      "cell_type": "code",
      "source": [
        "plt.boxplot(length)\n",
        "plt.grid(True)\n",
        "plt.show()"
      ],
      "metadata": {
        "colab": {
          "base_uri": "https://localhost:8080/",
          "height": 433
        },
        "id": "zlO-5x5GaJtF",
        "outputId": "f3a2ef69-832e-4787-aa35-02c34cff90c8"
      },
      "execution_count": 43,
      "outputs": [
        {
          "output_type": "display_data",
          "data": {
            "text/plain": [
              "<Figure size 640x480 with 1 Axes>"
            ],
            "image/png": "[encoded data removed]"
          },
          "metadata": {}
        }
      ]
    },
    {
      "cell_type": "code",
      "source": [
        "full_length = np.array([*map(len, tags)])\n",
        "full_length"
      ],
      "metadata": {
        "colab": {
          "base_uri": "https://localhost:8080/"
        },
        "id": "I-Z8URI5adj2",
        "outputId": "7253eeb8-865b-4d34-90fd-df4380894be4"
      },
      "execution_count": 44,
      "outputs": [
        {
          "output_type": "execute_result",
          "data": {
            "text/plain": [
              "array([ 2,  4,  3,  8, 11,  5, 10, 12,  9, 11,  8,  8, 10,  5,  5,  5,  6,\n",
              "        3,  9,  3,  8,  5,  7,  4,  5, 15,  9,  9,  4,  3,  2,  5, 10, 16,\n",
              "       20, 14, 24, 17, 14,  7, 13,  6,  6,  8,  8,  5,  9,  7,  5,  5,  8,\n",
              "        8,  6,  3,  6,  6,  7,  6, 11,  5,  3,  4,  1,  6,  2,  6,  1,  7,\n",
              "       16, 13, 11,  8,  5, 13, 13,  5,  3,  2,  5,  6,  3,  2,  8, 10,  2,\n",
              "        3,  8,  5,  8,  7, 15,  6,  9, 15, 10,  6,  7,  8,  5,  2,  8,  3,\n",
              "        6,  6, 10,  7,  5,  8,  8,  5,  8,  5,  4,  8,  5,  8,  4,  3,  8,\n",
              "        5,  4,  5,  5,  3,  5,  5, 11, 13,  5,  5, 11,  7, 14,  2,  8,  5,\n",
              "       10,  5,  2,  9, 22,  4,  8, 14,  7,  8,  3,  9,  9,  5,  5,  4,  8,\n",
              "        7,  7,  8,  5,  4,  6,  5,  7,  4,  3,  6,  8,  6,  5,  5,  6, 13,\n",
              "        6,  5])"
            ]
          },
          "metadata": {},
          "execution_count": 44
        }
      ]
    },
    {
      "cell_type": "code",
      "source": [
        "plt.hist(full_length)\n",
        "plt.xlabel('Length')\n",
        "plt.ylabel('Count')\n",
        "plt.title('BOJ Tag Length Histogram')\n",
        "plt.grid(True)"
      ],
      "metadata": {
        "colab": {
          "base_uri": "https://localhost:8080/",
          "height": 472
        },
        "id": "TZdevI-Wa84l",
        "outputId": "4e79d7f0-2e9d-4df4-ff1a-92253643035f"
      },
      "execution_count": 45,
      "outputs": [
        {
          "output_type": "display_data",
          "data": {
            "text/plain": [
              "<Figure size 640x480 with 1 Axes>"
            ],
            "image/png": "[encoded data removed]"
          },
          "metadata": {}
        }
      ]
    },
    {
      "cell_type": "code",
      "source": [
        "plt.boxplot(full_length)\n",
        "plt.grid(True)\n",
        "plt.show()"
      ],
      "metadata": {
        "colab": {
          "base_uri": "https://localhost:8080/",
          "height": 433
        },
        "id": "1-D3UF5VbPhR",
        "outputId": "2258e088-973e-4aa4-92cb-c05c3e0dbf10"
      },
      "execution_count": 46,
      "outputs": [
        {
          "output_type": "display_data",
          "data": {
            "text/plain": [
              "<Figure size 640x480 with 1 Axes>"
            ],
            "image/png": "[encoded data removed]"
          },
          "metadata": {}
        }
      ]
    },
    {
      "cell_type": "code",
      "source": [],
      "metadata": {
        "id": "DUtPbdBlb8x_"
      },
      "execution_count": null,
      "outputs": []
    }
  ]
}